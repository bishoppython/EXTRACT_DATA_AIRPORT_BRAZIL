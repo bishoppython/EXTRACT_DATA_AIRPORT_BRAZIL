{
 "cells": [
  {
   "cell_type": "code",
   "execution_count": 20,
   "metadata": {},
   "outputs": [
    {
     "name": "stdout",
     "output_type": "stream",
     "text": [
      "Concluído!\n"
     ]
    }
   ],
   "source": [
    "import requests\n",
    "import pandas as pd\n",
    "import json\n",
    "\n",
    "pd.set_option('display.max_rows', None)\n",
    "pd.set_option('display.max_columns', None)\n",
    "\n",
    "# URL do arquivo JSON\n",
    "url = \"https://sistemas.anac.gov.br/dadosabertos/Aerodromos/Aer%C3%B3dromos%20P%C3%BAblicos/Lista%20de%20aer%C3%B3dromos%20p%C3%BAblicos/AerodromosPublicos.json\"\n",
    "\n",
    "# Faça uma solicitação HTTP GET para o URL\n",
    "response = requests.get(url)\n",
    "\n",
    "# Verifique se a solicitação foi bem-sucedida (status code 200)\n",
    "if response.status_code == 200:\n",
    "    # Obtenha o conteúdo do texto da resposta e decodifique usando utf-8-sig\n",
    "    content = response.content.decode('utf-8-sig')\n",
    "    \n",
    "    # Carregue os dados JSON em um DataFrame\n",
    "    data = json.loads(content)\n",
    "    df = pd.DataFrame(data)\n",
    "    \n",
    "    # Exiba as primeiras linhas do DataFrame\n",
    "    print(\"Concluído!\")\n",
    "else:\n",
    "    print(\"Erro ao acessar o URL:\", response.status_code)\n"
   ]
  },
  {
   "cell_type": "code",
   "execution_count": 21,
   "metadata": {},
   "outputs": [
    {
     "data": {
      "text/plain": [
       "(495, 28)"
      ]
     },
     "execution_count": 21,
     "metadata": {},
     "output_type": "execute_result"
    }
   ],
   "source": [
    "df.shape"
   ]
  },
  {
   "cell_type": "code",
   "execution_count": 22,
   "metadata": {},
   "outputs": [
    {
     "data": {
      "text/plain": [
       "Index(['CódigoOACI', 'CIAD', 'Nome', 'Município', 'UF', 'MunicípioServido',\n",
       "       'UFSERVIDO', 'LatGeoPoint', 'LonGeoPoint', 'Latitude', 'Longitude',\n",
       "       'Altitude', 'OperaçãoDiurna', 'OperaçãoNoturna', 'Designação1',\n",
       "       'Comprimento1', 'Largura1', 'Resistência1', 'Superfície1',\n",
       "       'Designação2', 'Comprimento2', 'Largura2', 'Resistência2',\n",
       "       'Superfície2', 'SITUAÇÃO', 'ValidadedoRegistro', 'PortariadeRegistro',\n",
       "       'LinkPortaria'],\n",
       "      dtype='object')"
      ]
     },
     "execution_count": 22,
     "metadata": {},
     "output_type": "execute_result"
    }
   ],
   "source": [
    "df.columns"
   ]
  },
  {
   "cell_type": "markdown",
   "metadata": {},
   "source": [
    "#### Legendas\n",
    "###### *ILS CAT I:* Sistema de aproximação e pouso de precisão que conduz a aeronave até uma altura mínima de 60 metros sobre a cabeceira da pista (DH), requerendo uma visibilidade mínima de 800 metros como parâmetro para prosseguimento na aproximação de pouso.\n",
    "\n",
    "###### _Operação VFR especial_ significa a operação de uma aeronave de acordo com autorizações do Air Traffic control - ATC, dentro de um espaço aéreo controlado, em condições meteorológicas inferiores aos mínimos VFR básicos. Tais operações devem ser solicitadas pelo piloto e aprovadas pelo ATC. BRASIL. Comando da Aeronáutica."
   ]
  },
  {
   "cell_type": "code",
   "execution_count": 23,
   "metadata": {},
   "outputs": [
    {
     "data": {
      "text/html": [
       "<div>\n",
       "<style scoped>\n",
       "    .dataframe tbody tr th:only-of-type {\n",
       "        vertical-align: middle;\n",
       "    }\n",
       "\n",
       "    .dataframe tbody tr th {\n",
       "        vertical-align: top;\n",
       "    }\n",
       "\n",
       "    .dataframe thead th {\n",
       "        text-align: right;\n",
       "    }\n",
       "</style>\n",
       "<table border=\"1\" class=\"dataframe\">\n",
       "  <thead>\n",
       "    <tr style=\"text-align: right;\">\n",
       "      <th></th>\n",
       "      <th>CódigoOACI</th>\n",
       "      <th>Nome</th>\n",
       "      <th>Município</th>\n",
       "      <th>UF</th>\n",
       "      <th>LatGeoPoint</th>\n",
       "      <th>LonGeoPoint</th>\n",
       "      <th>Latitude</th>\n",
       "      <th>Longitude</th>\n",
       "      <th>OperaçãoDiurna</th>\n",
       "      <th>OperaçãoNoturna</th>\n",
       "      <th>SITUAÇÃO</th>\n",
       "      <th>ValidadedoRegistro</th>\n",
       "      <th>PortariadeRegistro</th>\n",
       "    </tr>\n",
       "  </thead>\n",
       "  <tbody>\n",
       "    <tr>\n",
       "      <th>0</th>\n",
       "      <td>SDZG</td>\n",
       "      <td>Pedro Teixeira Castelo Regional Tauá</td>\n",
       "      <td>TAUÁ</td>\n",
       "      <td>Ceará</td>\n",
       "      <td>-5.9333333</td>\n",
       "      <td>-40.2975</td>\n",
       "      <td>05°56'00.0\"S</td>\n",
       "      <td>040°17'51.0\"W</td>\n",
       "      <td>VFR</td>\n",
       "      <td>VFR</td>\n",
       "      <td>Cadastrado</td>\n",
       "      <td>07/05/2030</td>\n",
       "      <td>PA2020-1189</td>\n",
       "    </tr>\n",
       "    <tr>\n",
       "      <th>1</th>\n",
       "      <td>SDIG</td>\n",
       "      <td>Ibitinga</td>\n",
       "      <td>IBITINGA</td>\n",
       "      <td>São Paulo</td>\n",
       "      <td>-21.747222</td>\n",
       "      <td>-48.855833</td>\n",
       "      <td>21°44'50.0\"S</td>\n",
       "      <td>048°51'21.0\"W</td>\n",
       "      <td>VFR</td>\n",
       "      <td>Sem Operação</td>\n",
       "      <td>Cadastrado</td>\n",
       "      <td>23/04/2030</td>\n",
       "      <td>PA2020-1074</td>\n",
       "    </tr>\n",
       "    <tr>\n",
       "      <th>2</th>\n",
       "      <td>SBVT</td>\n",
       "      <td>Eurico de Aguiar Salles</td>\n",
       "      <td>VITÓRIA</td>\n",
       "      <td>Espírito Santo</td>\n",
       "      <td>-20.258056</td>\n",
       "      <td>-40.286389</td>\n",
       "      <td>20°15'29.0\"S</td>\n",
       "      <td>040°17'11.0\"W</td>\n",
       "      <td>VFR / IFR - CAT I</td>\n",
       "      <td>VFR / IFR - CAT I</td>\n",
       "      <td>Cadastrado</td>\n",
       "      <td>28/04/2024</td>\n",
       "      <td>PA2014-1002</td>\n",
       "    </tr>\n",
       "    <tr>\n",
       "      <th>3</th>\n",
       "      <td>SNJK</td>\n",
       "      <td>Jequié</td>\n",
       "      <td>JEQUIÉ</td>\n",
       "      <td>Bahia</td>\n",
       "      <td>-13.877778</td>\n",
       "      <td>-40.071389</td>\n",
       "      <td>13°52'40.0\"S</td>\n",
       "      <td>040°04'17.0\"W</td>\n",
       "      <td></td>\n",
       "      <td></td>\n",
       "      <td>Cadastrado</td>\n",
       "      <td>18/11/2024</td>\n",
       "      <td>PA2014-2695</td>\n",
       "    </tr>\n",
       "    <tr>\n",
       "      <th>4</th>\n",
       "      <td>SSKU</td>\n",
       "      <td>Lauro Antônio da Costa</td>\n",
       "      <td>CURITIBANOS</td>\n",
       "      <td>Santa Catarina</td>\n",
       "      <td>-27.287222</td>\n",
       "      <td>-50.603889</td>\n",
       "      <td>27°17'14.0\"S</td>\n",
       "      <td>050°36'14.0\"W</td>\n",
       "      <td>VFR</td>\n",
       "      <td>VFR</td>\n",
       "      <td>Cadastrado</td>\n",
       "      <td>20/05/2030</td>\n",
       "      <td>PA2020-1296</td>\n",
       "    </tr>\n",
       "    <tr>\n",
       "      <th>5</th>\n",
       "      <td>SBJV</td>\n",
       "      <td>Lauro Carneiro de Loyola</td>\n",
       "      <td>JOINVILLE</td>\n",
       "      <td>Santa Catarina</td>\n",
       "      <td>-26.223056</td>\n",
       "      <td>-48.797778</td>\n",
       "      <td>26°13'23.0\"S</td>\n",
       "      <td>048°47'52.0\"W</td>\n",
       "      <td>VFR / IFR - CAT I</td>\n",
       "      <td>VFR / IFR - CAT I</td>\n",
       "      <td>Cadastrado</td>\n",
       "      <td>17/04/2030</td>\n",
       "      <td>PA2020/1029</td>\n",
       "    </tr>\n",
       "    <tr>\n",
       "      <th>6</th>\n",
       "      <td>SSEP</td>\n",
       "      <td>São Sepé</td>\n",
       "      <td>SÃO SEPÉ</td>\n",
       "      <td>Rio Grande do Sul</td>\n",
       "      <td>-30.182222</td>\n",
       "      <td>-53.579444</td>\n",
       "      <td>30°10'56.0\"S</td>\n",
       "      <td>053°34'46.0\"W</td>\n",
       "      <td></td>\n",
       "      <td></td>\n",
       "      <td>Cadastrado</td>\n",
       "      <td>13/01/2031</td>\n",
       "      <td>PA2021-3955</td>\n",
       "    </tr>\n",
       "    <tr>\n",
       "      <th>7</th>\n",
       "      <td>SBDO</td>\n",
       "      <td>Dourados</td>\n",
       "      <td>DOURADOS</td>\n",
       "      <td>Mato Grosso do Sul</td>\n",
       "      <td>-22.200556</td>\n",
       "      <td>-54.925556</td>\n",
       "      <td>22°12'02.0\"S</td>\n",
       "      <td>054°55'32.0\"W</td>\n",
       "      <td>VFR / IFR Não Precisão</td>\n",
       "      <td>VFR / IFR Não Precisão</td>\n",
       "      <td>Cadastrado</td>\n",
       "      <td>17/08/2033</td>\n",
       "      <td>PA2023-12139</td>\n",
       "    </tr>\n",
       "    <tr>\n",
       "      <th>8</th>\n",
       "      <td>SJRG</td>\n",
       "      <td>Regional de Rio Grande</td>\n",
       "      <td>RIO GRANDE</td>\n",
       "      <td>Rio Grande do Sul</td>\n",
       "      <td>-32.083611</td>\n",
       "      <td>-52.167778</td>\n",
       "      <td>32°05'01.0\"S</td>\n",
       "      <td>052°10'04.0\"W</td>\n",
       "      <td>VFR</td>\n",
       "      <td>VFR</td>\n",
       "      <td>Cadastrado</td>\n",
       "      <td>21/07/2030</td>\n",
       "      <td>PA2022-10.073</td>\n",
       "    </tr>\n",
       "    <tr>\n",
       "      <th>9</th>\n",
       "      <td>SSXX</td>\n",
       "      <td>Municipal João Winckler</td>\n",
       "      <td>XANXERÊ</td>\n",
       "      <td>Santa Catarina</td>\n",
       "      <td>-26.875</td>\n",
       "      <td>-52.372778</td>\n",
       "      <td>26°52'30.0\"S</td>\n",
       "      <td>052°22'22.0\"W</td>\n",
       "      <td>VFR</td>\n",
       "      <td>VFR</td>\n",
       "      <td>Cadastrado</td>\n",
       "      <td>05/04/2033</td>\n",
       "      <td>PA2023-10896</td>\n",
       "    </tr>\n",
       "  </tbody>\n",
       "</table>\n",
       "</div>"
      ],
      "text/plain": [
       "  CódigoOACI                                  Nome    Município  \\\n",
       "0       SDZG  Pedro Teixeira Castelo Regional Tauá         TAUÁ   \n",
       "1       SDIG                              Ibitinga     IBITINGA   \n",
       "2       SBVT               Eurico de Aguiar Salles      VITÓRIA   \n",
       "3       SNJK                                Jequié       JEQUIÉ   \n",
       "4       SSKU                Lauro Antônio da Costa  CURITIBANOS   \n",
       "5       SBJV              Lauro Carneiro de Loyola    JOINVILLE   \n",
       "6       SSEP                              São Sepé     SÃO SEPÉ   \n",
       "7       SBDO                              Dourados     DOURADOS   \n",
       "8       SJRG                Regional de Rio Grande   RIO GRANDE   \n",
       "9       SSXX               Municipal João Winckler      XANXERÊ   \n",
       "\n",
       "                   UF LatGeoPoint LonGeoPoint      Latitude      Longitude  \\\n",
       "0               Ceará  -5.9333333    -40.2975  05°56'00.0\"S  040°17'51.0\"W   \n",
       "1           São Paulo  -21.747222  -48.855833  21°44'50.0\"S  048°51'21.0\"W   \n",
       "2      Espírito Santo  -20.258056  -40.286389  20°15'29.0\"S  040°17'11.0\"W   \n",
       "3               Bahia  -13.877778  -40.071389  13°52'40.0\"S  040°04'17.0\"W   \n",
       "4      Santa Catarina  -27.287222  -50.603889  27°17'14.0\"S  050°36'14.0\"W   \n",
       "5      Santa Catarina  -26.223056  -48.797778  26°13'23.0\"S  048°47'52.0\"W   \n",
       "6   Rio Grande do Sul  -30.182222  -53.579444  30°10'56.0\"S  053°34'46.0\"W   \n",
       "7  Mato Grosso do Sul  -22.200556  -54.925556  22°12'02.0\"S  054°55'32.0\"W   \n",
       "8   Rio Grande do Sul  -32.083611  -52.167778  32°05'01.0\"S  052°10'04.0\"W   \n",
       "9      Santa Catarina     -26.875  -52.372778  26°52'30.0\"S  052°22'22.0\"W   \n",
       "\n",
       "           OperaçãoDiurna         OperaçãoNoturna    SITUAÇÃO  \\\n",
       "0                     VFR                     VFR  Cadastrado   \n",
       "1                     VFR            Sem Operação  Cadastrado   \n",
       "2       VFR / IFR - CAT I       VFR / IFR - CAT I  Cadastrado   \n",
       "3                                                  Cadastrado   \n",
       "4                     VFR                     VFR  Cadastrado   \n",
       "5       VFR / IFR - CAT I       VFR / IFR - CAT I  Cadastrado   \n",
       "6                                                  Cadastrado   \n",
       "7  VFR / IFR Não Precisão  VFR / IFR Não Precisão  Cadastrado   \n",
       "8                     VFR                     VFR  Cadastrado   \n",
       "9                     VFR                     VFR  Cadastrado   \n",
       "\n",
       "  ValidadedoRegistro PortariadeRegistro  \n",
       "0         07/05/2030        PA2020-1189  \n",
       "1         23/04/2030        PA2020-1074  \n",
       "2         28/04/2024        PA2014-1002  \n",
       "3         18/11/2024        PA2014-2695  \n",
       "4         20/05/2030        PA2020-1296  \n",
       "5         17/04/2030        PA2020/1029  \n",
       "6         13/01/2031        PA2021-3955  \n",
       "7         17/08/2033       PA2023-12139  \n",
       "8         21/07/2030      PA2022-10.073  \n",
       "9         05/04/2033       PA2023-10896  "
      ]
     },
     "execution_count": 23,
     "metadata": {},
     "output_type": "execute_result"
    }
   ],
   "source": [
    "df[['CódigoOACI', 'Nome', 'Município', 'UF', 'LatGeoPoint', 'LonGeoPoint', 'Latitude',\n",
    "    'Longitude', 'OperaçãoDiurna', 'OperaçãoNoturna', 'SITUAÇÃO', 'ValidadedoRegistro', 'PortariadeRegistro']].head(10)"
   ]
  },
  {
   "cell_type": "code",
   "execution_count": 24,
   "metadata": {},
   "outputs": [
    {
     "data": {
      "text/plain": [
       "Index(['CódigoOACI', 'Nome', 'Município', 'UF', 'LatGeoPoint', 'LonGeoPoint',\n",
       "       'Latitude', 'Longitude'],\n",
       "      dtype='object')"
      ]
     },
     "execution_count": 24,
     "metadata": {},
     "output_type": "execute_result"
    }
   ],
   "source": [
    "# Dropa as colunas \n",
    "df = df.drop(columns=['CIAD', 'MunicípioServido',\n",
    "       'UFSERVIDO', 'Altitude', 'OperaçãoDiurna', 'OperaçãoNoturna', 'Designação1',\n",
    "       'Comprimento1', 'Largura1', 'Resistência1', 'Superfície1',\n",
    "       'Designação2', 'Comprimento2', 'Largura2', 'Resistência2',\n",
    "       'Superfície2', 'SITUAÇÃO', 'ValidadedoRegistro', 'PortariadeRegistro',\n",
    "       'LinkPortaria'])\n",
    "df.columns"
   ]
  },
  {
   "cell_type": "code",
   "execution_count": 25,
   "metadata": {},
   "outputs": [
    {
     "data": {
      "text/plain": [
       "Index(['ICAO', 'AIRPORTNAME', 'CITY', 'UF', 'LAT_DECIMAL', 'LONG_DECIMAL',\n",
       "       'LAT_DEGREES', 'LONG_DEGREES'],\n",
       "      dtype='object')"
      ]
     },
     "execution_count": 25,
     "metadata": {},
     "output_type": "execute_result"
    }
   ],
   "source": [
    "df = df.rename(columns={\"CódigoOACI\": \"ICAO\", \"Nome\": \"AIRPORTNAME\", \"Município\": \"CITY\", \"LatGeoPoint\": \"LAT_DECIMAL\",\n",
    "                        \"LonGeoPoint\" : \"LONG_DECIMAL\", \"Latitude\": \"LAT_DEGREES\",\"Longitude\": \"LONG_DEGREES\"})\n",
    "df.columns"
   ]
  },
  {
   "cell_type": "code",
   "execution_count": 26,
   "metadata": {},
   "outputs": [],
   "source": [
    "import re\n",
    "# Função para remover os caracteres indesejados\n",
    "def remover_caracteres(coordenadas):\n",
    "    # Expressão regular para encontrar os caracteres indesejados\n",
    "    padrao = r'[°\\'\"]'\n",
    "    # Substituir os caracteres indesejados por uma string vazia\n",
    "    coordenada_limpa = re.sub(padrao, ' ', coordenadas)\n",
    "    return coordenada_limpa\n",
    "\n"
   ]
  },
  {
   "cell_type": "code",
   "execution_count": 27,
   "metadata": {},
   "outputs": [
    {
     "data": {
      "text/plain": [
       "0    05 56 00.0 S\n",
       "1    21 44 50.0 S\n",
       "2    20 15 29.0 S\n",
       "3    13 52 40.0 S\n",
       "4    27 17 14.0 S\n",
       "5    26 13 23.0 S\n",
       "6    30 10 56.0 S\n",
       "7    22 12 02.0 S\n",
       "8    32 05 01.0 S\n",
       "9    26 52 30.0 S\n",
       "Name: LAT_DEGREES, dtype: object"
      ]
     },
     "execution_count": 27,
     "metadata": {},
     "output_type": "execute_result"
    }
   ],
   "source": [
    "# Aplicar a função remover_caracteres a cada valor na coluna 'Latitude'\n",
    "df['LAT_DEGREES'] = df['LAT_DEGREES'].apply(remover_caracteres)\n",
    "df['LAT_DEGREES'].head(10)"
   ]
  },
  {
   "cell_type": "code",
   "execution_count": 28,
   "metadata": {},
   "outputs": [
    {
     "data": {
      "text/plain": [
       "0    040 17 51.0 W\n",
       "1    048 51 21.0 W\n",
       "2    040 17 11.0 W\n",
       "3    040 04 17.0 W\n",
       "4    050 36 14.0 W\n",
       "Name: LONG_DEGREES, dtype: object"
      ]
     },
     "execution_count": 28,
     "metadata": {},
     "output_type": "execute_result"
    }
   ],
   "source": [
    "# Aplicar a função remover_caracteres a cada valor na coluna 'Latitude'\n",
    "df['LONG_DEGREES'] = df['LONG_DEGREES'].apply(remover_caracteres)\n",
    "df['LONG_DEGREES'].head(5)"
   ]
  },
  {
   "cell_type": "markdown",
   "metadata": {},
   "source": [
    "##### Tratando e Validando LAT e LONG DEGREES"
   ]
  },
  {
   "cell_type": "code",
   "execution_count": 29,
   "metadata": {},
   "outputs": [],
   "source": [
    "def dms_para_decimal(coordenada):\n",
    "    graus, minutos, segundos, direcao = coordenada.split()\n",
    "    \n",
    "    # Convertendo graus, minutos e segundos para números inteiros\n",
    "    graus = int(graus)\n",
    "    minutos = int(minutos)\n",
    "    segundos = float(segundos)\n",
    "    \n",
    "    # Convertendo minutos e segundos para frações de graus\n",
    "    fracao_minutos = minutos / 60\n",
    "    fracao_segundos = segundos / 3600\n",
    "    \n",
    "    # Calculando o valor decimal da coordenada\n",
    "    decimal = graus + fracao_minutos + fracao_segundos\n",
    "    \n",
    "    # Ajustando o sinal com base na direção (N, S, E, W)\n",
    "    if direcao in ['S', 'W']:\n",
    "        decimal *= -1\n",
    "    \n",
    "    return decimal"
   ]
  },
  {
   "cell_type": "code",
   "execution_count": 30,
   "metadata": {},
   "outputs": [],
   "source": [
    "df['LAT_DEGREES'] = df['LAT_DEGREES'].apply(dms_para_decimal)\n",
    "df['LONG_DEGREES'] = df['LONG_DEGREES'].apply(dms_para_decimal)"
   ]
  },
  {
   "cell_type": "code",
   "execution_count": 31,
   "metadata": {},
   "outputs": [
    {
     "data": {
      "text/plain": [
       "0   -40.297500\n",
       "1   -48.855833\n",
       "2   -40.286389\n",
       "3   -40.071389\n",
       "4   -50.603889\n",
       "Name: LONG_DEGREES, dtype: float64"
      ]
     },
     "execution_count": 31,
     "metadata": {},
     "output_type": "execute_result"
    }
   ],
   "source": [
    "df['LONG_DEGREES'].head(5)"
   ]
  },
  {
   "cell_type": "code",
   "execution_count": 32,
   "metadata": {},
   "outputs": [
    {
     "data": {
      "text/plain": [
       "0    -5.933333\n",
       "1   -21.747222\n",
       "2   -20.258056\n",
       "3   -13.877778\n",
       "4   -27.287222\n",
       "Name: LAT_DEGREES, dtype: float64"
      ]
     },
     "execution_count": 32,
     "metadata": {},
     "output_type": "execute_result"
    }
   ],
   "source": [
    "df['LAT_DEGREES'].head(5)"
   ]
  },
  {
   "cell_type": "code",
   "execution_count": 33,
   "metadata": {},
   "outputs": [],
   "source": [
    "# Dicionário de mapeamento de nomes de estados para siglas\n",
    "estados_siglas = {\n",
    "    'Acre': 'AC', 'Alagoas': 'AL', 'Amapá': 'AP', 'Amazonas': 'AM', 'Bahia': 'BA',\n",
    "    'Ceará': 'CE', 'Distrito Federal': 'DF', 'Espírito Santo': 'ES', 'Goiás': 'GO', 'Maranhão': 'MA',\n",
    "    'Mato Grosso': 'MT', 'Mato Grosso do Sul': 'MS', 'Minas Gerais': 'MG', 'Pará': 'PA', 'Paraíba': 'PB',\n",
    "    'Paraná': 'PR', 'Pernambuco': 'PE', 'Piauí': 'PI', 'Rio de Janeiro': 'RJ', 'Rio Grande do Norte': 'RN',\n",
    "    'Rio Grande do Sul': 'RS', 'Rondônia': 'RO', 'Roraima': 'RR', 'Santa Catarina': 'SC', 'São Paulo': 'SP',\n",
    "    'Sergipe': 'SE', 'Tocantins': 'TO'\n",
    "}"
   ]
  },
  {
   "cell_type": "code",
   "execution_count": 34,
   "metadata": {},
   "outputs": [],
   "source": [
    "# Substituindo os nomes dos estados pelas siglas\n",
    "df['UF'] = df['UF'].map(estados_siglas)"
   ]
  },
  {
   "cell_type": "code",
   "execution_count": 35,
   "metadata": {},
   "outputs": [
    {
     "data": {
      "text/html": [
       "<div>\n",
       "<style scoped>\n",
       "    .dataframe tbody tr th:only-of-type {\n",
       "        vertical-align: middle;\n",
       "    }\n",
       "\n",
       "    .dataframe tbody tr th {\n",
       "        vertical-align: top;\n",
       "    }\n",
       "\n",
       "    .dataframe thead th {\n",
       "        text-align: right;\n",
       "    }\n",
       "</style>\n",
       "<table border=\"1\" class=\"dataframe\">\n",
       "  <thead>\n",
       "    <tr style=\"text-align: right;\">\n",
       "      <th></th>\n",
       "      <th>ICAO</th>\n",
       "      <th>AIRPORTNAME</th>\n",
       "      <th>CITY</th>\n",
       "      <th>UF</th>\n",
       "      <th>LAT_DECIMAL</th>\n",
       "      <th>LAT_DEGREES</th>\n",
       "      <th>LONG_DECIMAL</th>\n",
       "      <th>LONG_DEGREES</th>\n",
       "    </tr>\n",
       "  </thead>\n",
       "  <tbody>\n",
       "    <tr>\n",
       "      <th>0</th>\n",
       "      <td>SDZG</td>\n",
       "      <td>Pedro Teixeira Castelo Regional Tauá</td>\n",
       "      <td>TAUÁ</td>\n",
       "      <td>CE</td>\n",
       "      <td>-5.9333333</td>\n",
       "      <td>-5.933333</td>\n",
       "      <td>-40.2975</td>\n",
       "      <td>-40.297500</td>\n",
       "    </tr>\n",
       "    <tr>\n",
       "      <th>1</th>\n",
       "      <td>SDIG</td>\n",
       "      <td>Ibitinga</td>\n",
       "      <td>IBITINGA</td>\n",
       "      <td>SP</td>\n",
       "      <td>-21.747222</td>\n",
       "      <td>-21.747222</td>\n",
       "      <td>-48.855833</td>\n",
       "      <td>-48.855833</td>\n",
       "    </tr>\n",
       "    <tr>\n",
       "      <th>2</th>\n",
       "      <td>SBVT</td>\n",
       "      <td>Eurico de Aguiar Salles</td>\n",
       "      <td>VITÓRIA</td>\n",
       "      <td>ES</td>\n",
       "      <td>-20.258056</td>\n",
       "      <td>-20.258056</td>\n",
       "      <td>-40.286389</td>\n",
       "      <td>-40.286389</td>\n",
       "    </tr>\n",
       "    <tr>\n",
       "      <th>3</th>\n",
       "      <td>SNJK</td>\n",
       "      <td>Jequié</td>\n",
       "      <td>JEQUIÉ</td>\n",
       "      <td>BA</td>\n",
       "      <td>-13.877778</td>\n",
       "      <td>-13.877778</td>\n",
       "      <td>-40.071389</td>\n",
       "      <td>-40.071389</td>\n",
       "    </tr>\n",
       "    <tr>\n",
       "      <th>4</th>\n",
       "      <td>SSKU</td>\n",
       "      <td>Lauro Antônio da Costa</td>\n",
       "      <td>CURITIBANOS</td>\n",
       "      <td>SC</td>\n",
       "      <td>-27.287222</td>\n",
       "      <td>-27.287222</td>\n",
       "      <td>-50.603889</td>\n",
       "      <td>-50.603889</td>\n",
       "    </tr>\n",
       "  </tbody>\n",
       "</table>\n",
       "</div>"
      ],
      "text/plain": [
       "   ICAO                           AIRPORTNAME         CITY  UF LAT_DECIMAL  \\\n",
       "0  SDZG  Pedro Teixeira Castelo Regional Tauá         TAUÁ  CE  -5.9333333   \n",
       "1  SDIG                              Ibitinga     IBITINGA  SP  -21.747222   \n",
       "2  SBVT               Eurico de Aguiar Salles      VITÓRIA  ES  -20.258056   \n",
       "3  SNJK                                Jequié       JEQUIÉ  BA  -13.877778   \n",
       "4  SSKU                Lauro Antônio da Costa  CURITIBANOS  SC  -27.287222   \n",
       "\n",
       "   LAT_DEGREES LONG_DECIMAL  LONG_DEGREES  \n",
       "0    -5.933333     -40.2975    -40.297500  \n",
       "1   -21.747222   -48.855833    -48.855833  \n",
       "2   -20.258056   -40.286389    -40.286389  \n",
       "3   -13.877778   -40.071389    -40.071389  \n",
       "4   -27.287222   -50.603889    -50.603889  "
      ]
     },
     "execution_count": 35,
     "metadata": {},
     "output_type": "execute_result"
    }
   ],
   "source": [
    "df[['ICAO', 'AIRPORTNAME', 'CITY', 'UF', 'LAT_DECIMAL', 'LAT_DEGREES', 'LONG_DECIMAL', 'LONG_DEGREES']].head(5)"
   ]
  },
  {
   "cell_type": "code",
   "execution_count": 36,
   "metadata": {},
   "outputs": [],
   "source": [
    "df[['ICAO', 'AIRPORTNAME', 'CITY', 'UF', 'LAT_DECIMAL', 'LAT_DEGREES', 'LONG_DECIMAL', 'LONG_DEGREES']].to_excel('ICAO_LAT_LONG.xlsx', index=False)"
   ]
  },
  {
   "cell_type": "markdown",
   "metadata": {},
   "source": [
    "##### Efetuar a inserção no Banco"
   ]
  },
  {
   "cell_type": "code",
   "execution_count": 37,
   "metadata": {},
   "outputs": [],
   "source": [
    "# df.head(10)"
   ]
  },
  {
   "cell_type": "code",
   "execution_count": 38,
   "metadata": {},
   "outputs": [],
   "source": [
    "# df.tail(3)"
   ]
  }
 ],
 "metadata": {
  "kernelspec": {
   "display_name": "Python 3",
   "language": "python",
   "name": "python3"
  },
  "language_info": {
   "codemirror_mode": {
    "name": "ipython",
    "version": 3
   },
   "file_extension": ".py",
   "mimetype": "text/x-python",
   "name": "python",
   "nbconvert_exporter": "python",
   "pygments_lexer": "ipython3",
   "version": "3.11.5"
  }
 },
 "nbformat": 4,
 "nbformat_minor": 2
}
